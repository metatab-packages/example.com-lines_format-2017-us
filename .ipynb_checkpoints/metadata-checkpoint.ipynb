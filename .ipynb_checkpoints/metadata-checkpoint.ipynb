{
 "cells": [
  {
   "cell_type": "markdown",
   "metadata": {
    "tags": [
     "Title"
    ]
   },
   "source": [
    "# A Metatab Example Data Package"
   ]
  },
  {
   "cell_type": "markdown",
   "metadata": {
    "tags": [
     "Description"
    ]
   },
   "source": [
    "An example data package, from the Metatab tutorial at https://github.com/CivicKnowledge/metatab-py/blob/master/README.rst"
   ]
  },
  {
   "cell_type": "raw",
   "metadata": {
    "tags": [
     "metadata"
    ]
   },
   "source": [
    "Declare: metatab-latest\n",
    "Identifier: 96cd659b-94ad-46ae-9c18-4018caa64355\n",
    "Name: 2017-us-1\n",
    "Datasetname: example-data-package\n",
    "Version: 1\n",
    "Space: US\n",
    "Time: 2017\n",
    "Spatialgrain: None\n",
    "\n",
    "Section: Documentation|Title|Description|||\n",
    "Homepage: http://metatab.org\n",
    "    Homepage.Title: Metatab Home Page\n",
    "    Homepage.Description: Main Metatab home page\n",
    "Documentation: https://github.com/CivicKnowledge/metatab-py/blob/master/README.rst\n",
    "    Documentation.Title: Metatab Python Package README\n",
    "    Documentation.Description: The README in the Metatab Githup repo contains the tutorial for generating this package.\n",
    "\n",
    "Section: Contacts|email||||\n",
    "Origin: example.com\n",
    "Creator: Eric Busboom\n",
    "    Creator.Email: eric@civicknowledge. com\n",
    "Wrangler: Eric Busboom\n",
    "    Wrangler.Email: eric@civicknowledge. com\n",
    "\n",
    "Section: Notes|||||\n",
    "Note: None"
   ]
  },
  {
   "cell_type": "raw",
   "metadata": {
    "tags": [
     "resources"
    ]
   },
   "source": [
    "Section: Resources|Name|StartLine|HeaderLines|Encoding|Description\n",
    "Datafile: http://public.source.civicknowledge.com/example.com/sources/test_data.zip#test_data%2Fcsv%2Frandom-names.csv\n",
    "    Datafile.Name: random-names\n",
    "    Datafile.Startline: 1\n",
    "    Datafile.Headerlines: 0\n",
    "    Datafile.Encoding: ascii\n",
    "    Datafile.Description: Names and a random number\n",
    "Datafile: http://public.source.civicknowledge.com/example.com/sources/test_data.zip#test_data%2Fcsv%2Frenter_cost.csv\n",
    "    Datafile.Name: renter_cost\n",
    "    Datafile.Startline: 5\n",
    "    Datafile.Headerlines: 3,4\n",
    "    Datafile.Encoding: ascii\n",
    "    Datafile.Description: Portion of income spent on rent, extracted from the ACS\n",
    "Datafile: http://public.source.civicknowledge.com/example.com/sources/test_data.zip#test_data%2Fcsv%2Fsimple-example-altnames.csv\n",
    "    Datafile.Name: simple-example-altnames\n",
    "    Datafile.Startline: 1\n",
    "    Datafile.Headerlines: 0\n",
    "    Datafile.Encoding: ascii\n",
    "    Datafile.Description: Random UUIDs, integers and numbers\n",
    "Datafile: http://public.source.civicknowledge.com/example.com/sources/test_data.zip#test_data%2Fcsv%2Fsimple-example.csv\n",
    "    Datafile.Name: simple-example\n",
    "    Datafile.Startline: 1\n",
    "    Datafile.Headerlines: 0\n",
    "    Datafile.Encoding: ascii\n",
    "    Datafile.Description: Random UUIDs, integers and numbers\n",
    "Datafile: http://public.source.civicknowledge.com/example.com/sources/test_data.zip#test_data%2Fcsv%2Funicode-latin1.csv\n",
    "    Datafile.Name: unicode-latin1\n",
    "    Datafile.Startline: 1\n",
    "    Datafile.Headerlines: 0\n",
    "    Datafile.Encoding: latin1\n",
    "    Datafile.Description: The same data as unicode-utf8, but re-encoded to latin1\n",
    "Datafile: http://public.source.civicknowledge.com/example.com/sources/test_data.zip#test_data%2Fcsv%2Funicode-utf8.csv\n",
    "    Datafile.Name: unicode-utf8\n",
    "    Datafile.Startline: 1\n",
    "    Datafile.Headerlines: 0\n",
    "    Datafile.Encoding: utf8\n",
    "    Datafile.Description: Famous names, latinized and in original character sets.\n",
    "Datafile: http://public.source.civicknowledge.com/example.com/sources/test_data.zip#test_data%2Fexcel%2Frenter_cost_excel07.xlsx%3BSheet1\n",
    "    Datafile.Name: renter_cost_excel07\n",
    "    Datafile.Startline: 5\n",
    "    Datafile.Headerlines: 3,4\n",
    "    Datafile.Encoding: ascii\n",
    "    Datafile.Description: Same data as renter_cost, but sourced from an XLS file\n",
    "Datafile: http://public.source.civicknowledge.com/example.com/sources/test_data.zip#test_data%2Fexcel%2Frenter_cost_excel97.xls%3BSheet1\n",
    "    Datafile.Name: renter_cost_excel97\n",
    "    Datafile.Startline: 5\n",
    "    Datafile.Headerlines: 3,4\n",
    "    Datafile.Encoding: ascii\n",
    "    Datafile.Description: Same data as renter_cost, but sourced from an XLSX file\n",
    "Datafile: http://public.source.civicknowledge.com/example.com/sources/test_data.zip#test_data%2Ftab%2Frenter_cost.tsv\n",
    "    Datafile.Name: renter_cost-2\n",
    "    Datafile.Startline: 5\n",
    "    Datafile.Headerlines: 3,4\n",
    "    Datafile.Encoding: ascii\n",
    "    Datafile.Description: Same data as renter_cost, but sourced from an XLS file tab le"
   ]
  },
  {
   "cell_type": "code",
   "execution_count": null,
   "metadata": {},
   "outputs": [],
   "source": [
    "import seaborn as sns\n",
    "import metapack as mp\n",
    "import pandas as pd\n",
    "import numpy as np\n",
    "import matplotlib.pyplot as plt\n",
    "from IPython.display import display \n",
    "\n",
    "%matplotlib inline\n",
    "%load_ext metapack.jupyter.magic\n",
    "sns.set_context('notebook')\n",
    "mp.jupyter.init()\n",
    "mp.jupyter.convert.convert_notebook_to_metadata()"
   ]
  },
  {
   "cell_type": "code",
   "execution_count": 1,
   "metadata": {},
   "outputs": [],
   "source": [
    "# Code goes after metadata, before schema"
   ]
  },
  {
   "cell_type": "code",
   "execution_count": null,
   "metadata": {
    "tags": [
     "schema"
    ]
   },
   "outputs": [],
   "source": []
  }
 ],
 "metadata": {
  "celltoolbar": "Tags",
  "kernelspec": {
   "display_name": "Python 3",
   "language": "python",
   "name": "python3"
  },
  "language_info": {
   "codemirror_mode": {
    "name": "ipython",
    "version": 3
   },
   "file_extension": ".py",
   "mimetype": "text/x-python",
   "name": "python",
   "nbconvert_exporter": "python",
   "pygments_lexer": "ipython3",
   "version": "3.6.0"
  }
 },
 "nbformat": 4,
 "nbformat_minor": 2
}
